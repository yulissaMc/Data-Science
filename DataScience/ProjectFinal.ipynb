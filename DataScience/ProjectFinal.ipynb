{
 "cells": [
  {
   "cell_type": "markdown",
   "id": "371271d8-c862-4000-9109-1487bda21953",
   "metadata": {},
   "source": [
    "# Data Science Tools and Ecosystem"
   ]
  },
  {
   "cell_type": "markdown",
   "id": "fb627f6c-0c56-4ce8-8de4-fa13c98c1fe5",
   "metadata": {},
   "source": [
    "In this notebook, Data Science Tools and Ecosystem are summarized."
   ]
  },
  {
   "cell_type": "markdown",
   "id": "a46c8dfd-59bf-4689-9017-d6efbc38743f",
   "metadata": {},
   "source": [
    "**Objectives:**\n",
    "\n",
    "- List popular languages for Data Science.\n",
    "- List popular libraries used by Data Scientists.\n",
    "- Understand basic arithmetic operations in Python.\n",
    "- Convert time units (e.g., minutes to hours).\n",
    "- Evaluate and interpret arithmetic expressions.\n",
    "- Write and comment Python code effectively."
   ]
  },
  {
   "cell_type": "markdown",
   "id": "222e80b1-2ed4-4149-9c2a-5a4266acea01",
   "metadata": {},
   "source": [
    "Some of the popular languages that Data Scientists use are:\n",
    "\n",
    "1. Python\n",
    "2. R\n",
    "3. SQL\n",
    "4. Dax\n",
    "5. Java"
   ]
  },
  {
   "cell_type": "markdown",
   "id": "408136ec-9adc-4c24-9215-593a038d3981",
   "metadata": {},
   "source": [
    "Some of the commonly used libraries used by Data Scientists include:\n",
    "\n",
    "1. Pandas\n",
    "2. NumPy\n",
    "3. Matplotlib\n",
    "4. Scikit-learn\n",
    "5. TensorFlow\n"
   ]
  },
  {
   "cell_type": "markdown",
   "id": "7cb2475f-d039-4ee1-b8c0-dfd9bf16e253",
   "metadata": {},
   "source": [
    "| Data Science Tools |\n",
    "|--------------------|\n",
    "| Jupyter Notebook    |\n",
    "| RStudio             |\n",
    "| Apache              |\n"
   ]
  },
  {
   "cell_type": "markdown",
   "id": "1c09d3fe-7bb4-4090-a811-596090954d93",
   "metadata": {},
   "source": [
    "### Below are a few examples of evaluating arithmetic expressions in Python"
   ]
  },
  {
   "cell_type": "code",
   "execution_count": 6,
   "id": "4579eed6-5fe9-488f-af0e-e7c1731c56f6",
   "metadata": {},
   "outputs": [
    {
     "name": "stdout",
     "output_type": "stream",
     "text": [
      "8\n"
     ]
    }
   ],
   "source": [
    "# Addition\n",
    "result = 8 + 3\n",
    "print(result)  # Output: 11\n"
   ]
  },
  {
   "cell_type": "code",
   "execution_count": 7,
   "id": "bdb8278b-00d1-4837-973a-7836dca03758",
   "metadata": {},
   "outputs": [
    {
     "name": "stdout",
     "output_type": "stream",
     "text": [
      "7\n"
     ]
    }
   ],
   "source": [
    "# Subtraction\n",
    "result = 10 - 3\n",
    "print(result)  # Output: 7"
   ]
  },
  {
   "cell_type": "code",
   "execution_count": 10,
   "id": "f6a2504f-e025-4899-806c-fda6375b3126",
   "metadata": {},
   "outputs": [
    {
     "name": "stdout",
     "output_type": "stream",
     "text": [
      "14\n"
     ]
    }
   ],
   "source": [
    "# Multiplication\n",
    "result = 7 * 2\n",
    "print(result)  # Output: 14"
   ]
  },
  {
   "cell_type": "code",
   "execution_count": 9,
   "id": "003a4b53-14e9-4880-8f47-50b4ca7150c8",
   "metadata": {},
   "outputs": [
    {
     "name": "stdout",
     "output_type": "stream",
     "text": [
      "4.0\n"
     ]
    }
   ],
   "source": [
    "# Division\n",
    "result = 8 / 2\n",
    "print(result)  # Output: 4.0"
   ]
  },
  {
   "cell_type": "code",
   "execution_count": 11,
   "id": "e667d6b1-d002-400a-ad90-12ac8ef236ff",
   "metadata": {},
   "outputs": [
    {
     "name": "stdout",
     "output_type": "stream",
     "text": [
      "17\n"
     ]
    }
   ],
   "source": [
    "# This is a simple arithmetic expression to multiply then add integers.\n",
    "result = (3 * 4) + 5\n",
    "print(result)  # Output: 17"
   ]
  },
  {
   "cell_type": "code",
   "execution_count": 12,
   "id": "56af7d04-c235-45d9-b62c-80f9f405faa5",
   "metadata": {},
   "outputs": [
    {
     "name": "stdout",
     "output_type": "stream",
     "text": [
      "3.3333333333333335\n"
     ]
    }
   ],
   "source": [
    "# This will convert 200 minutes to hours by dividing by 60.\n",
    "hours = 200 / 60\n",
    "print(hours)  # Output: 3.3333..."
   ]
  },
  {
   "cell_type": "markdown",
   "id": "f35742c6-637b-4e85-862f-7d63bff63b09",
   "metadata": {},
   "source": [
    "## Author\n",
    "\n",
    "[Yulissa Del Rorario Melendez Cabezas]"
   ]
  },
  {
   "cell_type": "code",
   "execution_count": null,
   "id": "1a802a1d-4f2f-48f9-a7f5-993aa280433d",
   "metadata": {},
   "outputs": [],
   "source": []
  }
 ],
 "metadata": {
  "kernelspec": {
   "display_name": "Python 3 (ipykernel)",
   "language": "python",
   "name": "python3"
  },
  "language_info": {
   "codemirror_mode": {
    "name": "ipython",
    "version": 3
   },
   "file_extension": ".py",
   "mimetype": "text/x-python",
   "name": "python",
   "nbconvert_exporter": "python",
   "pygments_lexer": "ipython3",
   "version": "3.12.1"
  }
 },
 "nbformat": 4,
 "nbformat_minor": 5
}
